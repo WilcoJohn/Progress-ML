{
 "cells": [
  {
   "cell_type": "markdown",
   "id": "169e3d72-8e06-4419-a5a5-90038c92bc24",
   "metadata": {},
   "source": [
    "# Approaching a Machine Learning Problem"
   ]
  },
  {
   "cell_type": "markdown",
   "id": "5c487489-f615-4a38-87b9-71ee67f18c41",
   "metadata": {},
   "source": [
    "With all the great methods that we introduced in this book now at your fingertips, it\n",
    "may be tempting to jump in and start solving your data-related problem by just running\n",
    "your favorite algorithm. However, this is not usually a good way to begin your\n",
    "analysis. The machine learning algorithm is usually only a small part of a larger data\n",
    "analysis and decision-making process. To make effective use of machine learning, we\n",
    "need to take a step back and consider the problem at large. First, you should think\n",
    "about what kind of question you want to answer. Do you want to do exploratory analysis\n",
    "and just see if you find something interesting in the data? Or do you already have\n",
    "a particular goal in mind? Often you will start with a goal, like detecting fraudulent\n",
    "user transactions, making movie recommendations, or finding unknown planets. If\n",
    "you have such a goal, before building a system to achieve it, you should first think\n",
    "about how to define and measure success, and what the impact of a successful solution\n",
    "would be to your overall business or research goals. Let’s say your goal is fraud\n",
    "detection.\n",
    "\n",
    "Then the following questions open up:\n",
    "- How do I measure if my fraud prediction is actually working?\n",
    "- Do I have the right data to evaluate an algorithm?\n",
    "- If I am successful, what will be the business impact of my solution?\n",
    "\n",
    "\n",
    "As we discussed in Chapter 5, it is best if you can measure the performance of your\n",
    "algorithm directly using a business metric, like increased profit or decreased losses.\n",
    "This is often hard to do, though. A question that can be easier to answer is “What if I\n",
    "built the perfect model?” If perfectly detecting any fraud will save your company $100\n",
    "a month, these possible savings will probably not be enough to warrant the effort of\n",
    "you even starting to develop an algorithm. On the other hand, if the model might\n",
    "save your company tens of thousands of dollars every month, the problem might be\n",
    "worth exploring.\n",
    "\n",
    "\n",
    "Say you’ve defined the problem to solve, you know a solution might have a significant\n",
    "impact for your project, and you’ve ensured that you have the right information to\n",
    "evaluate success. The next steps are usually acquiring the data and building a working\n",
    "prototype. In this book we have talked about many models you can employ, and how\n",
    "to properly evaluate and tune these models. While trying out models, though, keep in\n",
    "mind that this is only a small part of a larger data science workflow, and model building\n",
    "is often part of a feedback circle of collecting new data, cleaning data, building\n",
    "models, and analyzing the models. Analyzing the mistakes a model makes can often\n",
    "be informative about what is missing in the data, what additional data could be collected,\n",
    "or how the task could be reformulated to make machine learning more effective.\n",
    "Collecting more or different data or changing the task formulation slightly might\n",
    "provide a much higher payoff than running endless grid searches to tune parameters"
   ]
  },
  {
   "cell_type": "markdown",
   "id": "3ec07215-59b7-4dbc-8800-260d1348d713",
   "metadata": {},
   "source": [
    "### Humans in the Loop "
   ]
  },
  {
   "cell_type": "markdown",
   "id": "9e52a6aa-01de-4fb2-8a5f-7dfa69d4b20b",
   "metadata": {},
   "source": [
    "You should also consider if and how you should have humans in the loop. Some processes\n",
    "(like pedestrian detection in a self-driving car) need to make immediate decisions.\n",
    "Others might not need immediate responses, and so it can be possible to have\n",
    "humans confirm uncertain decisions. Medical applications, for example, might need\n",
    "very high levels of precision that possibly cannot be achieved by a machine learning\n",
    "algorithm alone. But if an algorithm can make 90 percent, 50 percent, or maybe even\n",
    "just 10 percent of decisions automatically, that might already increase response time\n",
    "or reduce cost. Many applications are dominated by “simple cases,” for which an algorithm\n",
    "can make a decision, with relatively few “complicated cases,” which can be\n",
    "rerouted to a human."
   ]
  },
  {
   "cell_type": "markdown",
   "id": "4a1910c2-9444-4f0a-b0be-8753f8c47006",
   "metadata": {},
   "source": [
    "# From Prototype to Production"
   ]
  },
  {
   "cell_type": "markdown",
   "id": "196ab4c0-b787-454c-9117-b85dbdfa2753",
   "metadata": {},
   "source": [
    "The tools we’ve discussed in this book are great for many machine learning applications,\n",
    "and allow very quick analysis and prototyping. Python and scikit-learn are\n",
    "also used in production systems in many organizations—even very large ones like\n",
    "international banks and global social media companies. However, many companies\n",
    "have complex infrastructure, and it is not always easy to include Python in these systems.\n",
    "That is not necessarily a problem. In many companies, the data analytics teams\n",
    "work with languages like Python and R that allow the quick testing of ideas, while\n",
    "production teams work with languages like Go, Scala, C++, and Java to build robust,\n",
    "scalable systems. Data analysis has different requirements from building live services,\n",
    "and so using different languages for these tasks makes sense. A relatively common\n",
    "solution is to reimplement the solution that was found by the analytics team inside\n",
    "the larger framework, using a high-performance language. This can be easier than\n",
    "embedding a whole library or programming language and converting from and to the\n",
    "different data formats.\n",
    "\n",
    "                                \n",
    "Regardless of whether you can use scikit-learn in a production system or not, it is\n",
    "important to keep in mind that production systems have different requirements from\n",
    "one-off analysis scripts. If an algorithm is deployed into a larger system, software\n",
    "engineering aspects like reliability, predictability, runtime, and memory requirements\n",
    "gain relevance. Simplicity is key in providing machine learning systems that perform\n",
    "well in these areas. Critically inspect each part of your data processing and prediction\n",
    "pipeline and ask yourself how much complexity each step creates, how robust each\n",
    "component is to changes in the data or compute infrastructure, and if the benefit of\n",
    "each component warrants the complexity. If you are building involved machine learning\n",
    "systems, we highly recommend reading the paper “$\\href{https://research.google.com/pubs/pub43146.html?authuser=2}{Machine\\  Learning: \\ The \\ High\n",
    "\\ Interest \\ Credit \\ Card \\ of \\ Technical \\ Debt}$”, published by researchers in Google’s\n",
    "machine learning team. The paper highlights the trade-off in creating and maintaining\n",
    "machine learning software in production at a large scale. While the issue of technical\n",
    "debt is particularly pressing in large-scale and long-term projects, the lessons\n",
    "learned can help us build better software even for short-lived and smaller systems."
   ]
  },
  {
   "cell_type": "markdown",
   "id": "fdd9bc58-072c-4c9d-830d-9716e71c8618",
   "metadata": {},
   "source": [
    "# Testing Production Systems"
   ]
  },
  {
   "cell_type": "markdown",
   "id": "3a8858cc-4d3b-47de-815d-70388a69248f",
   "metadata": {},
   "source": [
    "In this book, we covered how to evaluate algorithmic predictions based on a test set\n",
    "that we collected beforehand. This is known as offline evaluation. If your machine\n",
    "learning system is user-facing, this is only the first step in evaluating an algorithm,\n",
    "though. The next step is usually online testing or live testing, where the consequences\n",
    "of employing the algorithm in the overall system are evaluated. Changing the recommendations\n",
    "or search results users are shown by a website can drastically change\n",
    "their behavior and lead to unexpected consequences. To protect against these surprises,\n",
    "most user-facing services employ A/B testing, a form of blind user study. In A/B testing, without their knowledge a selected portion of users will be provided with\n",
    "a website or service using algorithm A, while the rest of the users will be provided\n",
    "with algorithm B. For both groups, relevant success metrics will be recorded for a set\n",
    "period of time. Then, the metrics of algorithm A and algorithm B will be compared,\n",
    "and a selection between the two approaches will be made according to these metrics.\n",
    "Using A/B testing enables us to evaluate the algorithms “in the wild,” which might\n",
    "help us to discover unexpected consequences when users are interacting with our\n",
    "model. Often A is a new model, while B is the established system. There are more\n",
    "elaborate mechanisms for online testing that go beyond A/B testing, such as bandit\n",
    "algorithms. A great introduction to this subject can be found in the book $\\href{https://www.oreilly.com/library/view/bandit-algorithms-for/9781449341565/}{Bandit \\ Algorithms \\ for \\ Website \\ Optimization}$ by John Myles White (O’Reilly)."
   ]
  },
  {
   "cell_type": "markdown",
   "id": "31431463-442c-4c81-9561-4f3050d16dd2",
   "metadata": {},
   "source": [
    "# Building Your Own Estimator"
   ]
  },
  {
   "cell_type": "markdown",
   "id": "6376b0f9-0e8a-4d72-a2c5-dc57dce48c6a",
   "metadata": {},
   "source": [
    "This book has covered a variety of tools and algorithms implemented in scikitlearn\n",
    "that can be used on a wide range of tasks. However, often there will be some\n",
    "particular processing you need to do for your data that is not implemented in\n",
    "scikit-learn. It may be enough to just preprocess your data before passing it to your\n",
    "scikit-learn model or pipeline. However, if your preprocessing is data dependent,\n",
    "and you want to apply a grid search or cross-validation, things become trickier.\n",
    "\n",
    "In Chapter 6 we discussed the importance of putting all data-dependent processing\n",
    "inside the cross-validation loop. So how can you use your own processing together\n",
    "with the scikit-learn tools? There is a simple solution: build your own estimator!\n",
    "Implementing an estimator that is compatible with the scikit-learn interface, so\n",
    "that it can be used with Pipeline, GridSearchCV, and cross_val_score, is quite easy.\n",
    "You can find detailed instructions in the $\\href{https://www.oreilly.com/library/view/bandit-algorithms-for/9781449341565/}{scikit-learn}$ documentation, but here is\n",
    "the gist. The simplest way to implement a transformer class is by inheriting from\n",
    "BaseEstimator and TransformerMixin, and then implementing the \\_\\_init__(), fit,\n",
    "and predict functions like this:"
   ]
  },
  {
   "cell_type": "code",
   "execution_count": 1,
   "id": "bbbd7307-07a0-44a8-818d-6b57e310ad48",
   "metadata": {},
   "outputs": [],
   "source": [
    "from sklearn.base import BaseEstimator, TransformerMixin\n",
    "\n",
    "\n",
    "class MyTransformer(BaseEstimator, TransformerMixin):\n",
    "    def __init__(self, first_parameter=1, second_parameter=2):\n",
    "        # All parameters must be specified in the __init__ function\n",
    "        self.first_parameter = 1\n",
    "        self.second_parameter = 2\n",
    "    \n",
    "    def fit(self, X, y=None):\n",
    "        # fit should only take X and y as parameters\n",
    "        # Even if your model is unsupervised, you need to accept a y argument!\n",
    "        # Model fitting code goes here\n",
    "        print(\"fitting the model right here\")\n",
    "        # fit returns self\n",
    "        return self\n",
    "    \n",
    "    def transform(self, X):\n",
    "        # transform takes as parameter only X\n",
    "        # Apply some transformation to X\n",
    "        X_transformed = X + 1\n",
    "        return X_transformed"
   ]
  },
  {
   "cell_type": "markdown",
   "id": "14d0245b-f5b8-4d06-9de9-4fbd8dbec039",
   "metadata": {},
   "source": [
    "Implementing a classifier or regressor works similarly, only instead of Transformer\n",
    "Mixin you need to inherit from ClassifierMixin or RegressorMixin. Also, instead\n",
    "of implementing transform, you would implement predict.\n",
    "\n",
    "As you can see from the example given here, implementing your own estimator\n",
    "requires very little code, and most scikit-learn users build up a collection of custom\n",
    "models over time."
   ]
  },
  {
   "cell_type": "markdown",
   "id": "2f42725a-a03b-42d0-ac7c-ec50d62216ab",
   "metadata": {},
   "source": [
    "# Where to Go from Here"
   ]
  },
  {
   "cell_type": "markdown",
   "id": "e6a595b6-3fd4-4a61-b7d7-70e69a96c9bd",
   "metadata": {},
   "source": [
    "This book provides an introduction to machine learning and will make you an effective\n",
    "practitioner. However, if you want to further your machine learning skills, here\n",
    "are some suggestions of books and more specialized resources to investigate to dive\n",
    "deeper."
   ]
  },
  {
   "cell_type": "markdown",
   "id": "5e9c0c05-5b98-4bf7-8264-361625ca2486",
   "metadata": {},
   "source": [
    "## Theory"
   ]
  },
  {
   "cell_type": "markdown",
   "id": "26109ca0-8fd0-43b3-9b47-1dd9da753643",
   "metadata": {},
   "source": [
    " In this book, we tried to provide an intuition of how the most common machine learning algorithms work, without requiring a strong foundation in mathematics or computer science. However, many of the models we discussed use principles from probability theory, linear algebra, and optimization. While it is not necessary to understand all the details of how these algorithms are implemented, we think that knowing some of the theory behind the algorithms will make you a better data scientist. There have been many good books written about the theory of machine learning, and if we were able to excite you about the possibilities that machine learning opens up, we suggest you pick up at least one of them and dig deeper. \n",
    " \n",
    " We already mentioned Hastie, Tibshirani, and Friedman’s book The Elements of Statistical Learning in the Preface, but it is worth repeating this recommendation here. Another quite accessible book, with accompanying Python code, is Machine Learning: An Algorithmic Perspective by Stephen Marsland (Chapman and Hall/CRC). Two other highly recommended classics are Pattern Recognition and Machine Learning by Christopher Bishop (Springer), a book that emphasizes a probabilistic framework, and Machine Learning: A Probabilistic Perspective by Kevin Murphy (MIT Press), a comprehensive (read: 1,000+ pages) dissertation on machine learning methods featuring in-depth discussions of state-of-the-art approaches, far beyond what we could cover in this book."
   ]
  },
  {
   "cell_type": "markdown",
   "id": "1da2758e-e456-42bd-9da0-4c5380e0c284",
   "metadata": {},
   "source": [
    "## Other Machine Learning Frameworks and Packages"
   ]
  },
  {
   "cell_type": "markdown",
   "id": "b0639a3a-3933-4e4b-b34b-515df474d237",
   "metadata": {},
   "source": [
    "While scikit-learn is our favorite package for machine learning1 and Python is our\n",
    "favorite language for machine learning, there are many other options out there.\n",
    "Depending on your needs, Python and scikit-learn might not be the best fit for\n",
    "your particular situation. Often using Python is great for trying out and evaluating\n",
    "models, but larger web services and applications are more commonly written in Java\n",
    "or C++, and integrating into these systems might be necessary for your model to be\n",
    "deployed. Another reason you might want to look beyond scikit-learn is if you are\n",
    "more interested in statistical modeling and inference than prediction. In this case,\n",
    "you should consider the statsmodel package for Python, which implements several\n",
    "linear models with a more statistically minded interface. If you are not married to\n",
    "Python, you might also consider using R, another lingua franca of data scientists. R is\n",
    "a language designed specifically for statistical analysis and is famous for its excellent\n",
    "visualization capabilities and the availability of many (often highly specialized) statistical\n",
    "modeling packages.\n",
    "\n",
    "Another popular machine learning package is vowpal wabbit (often called vw to\n",
    "avoid possible tongue twisting), a highly optimized machine learning package written\n",
    "in C++ with a command-line interface. vw is particularly useful for large datasets and\n",
    "for streaming data. For running machine learning algorithms distributed on a cluster,\n",
    "one of the most popular solutions at the time of writing is mllib, a Scala library built\n",
    "on top of the spark distributed computing environment"
   ]
  },
  {
   "cell_type": "markdown",
   "id": "7f76cb9d-66f6-48bc-9497-a86a30fc4e5f",
   "metadata": {},
   "source": [
    "## Ranking, Recommender Systems, and Other Kinds of Learning"
   ]
  },
  {
   "cell_type": "markdown",
   "id": "f1872464-cc94-43ac-a29a-2a261c59fe8a",
   "metadata": {},
   "source": [
    "Because this is an introductory book, we focused on the most common machine\n",
    "learning tasks: classification and regression in supervised learning, and clustering and\n",
    "signal decomposition in unsupervised learning. There are many more kinds of\n",
    "machine learning out there, with many important applications. There are two particularly\n",
    "important topics that we did not cover in this book. The first is ranking, in\n",
    "which we want to retrieve answers to a particular query, ordered by their relevance.\n",
    "You’ve probably already used a ranking system today; this is how search engines\n",
    "operate. You input a search query and obtain a sorted list of answers, ranked by how\n",
    "relevant they are. A great introduction to ranking is provided in Manning, Raghavan,\n",
    "and Schütze’s book Introduction to Information Retrieval. The second topic is recommender\n",
    "systems, which provide suggestions to users based on their preferences.\n",
    "You’ve probably encountered recommender systems under headings like “People You\n",
    "May Know,” “Customers Who Bought This Item Also Bought,” or “Top Picks for\n",
    "You.” There is plenty of literature on the topic, and if you want to dive right in you\n",
    "might be interested in the now classic “Netflix prize challenge”, in which the Netflix\n",
    "video streaming site released a large dataset of movie preferences and offered a prize\n",
    "of $1 million to the team that could provide the best recommendations. Another\n",
    "common application is prediction of time series (like stock prices), which also has a\n",
    "whole body of literature devoted to it. There are many more machine learning tasks\n",
    "out there—much more than we can list here—and we encourage you to seek out\n",
    "information from books, research papers, and online communities to find the paradigms\n",
    "that best apply to your situation."
   ]
  },
  {
   "cell_type": "markdown",
   "id": "6c7f840a-0048-47e5-84bf-4a09cfb61171",
   "metadata": {},
   "source": [
    "## Probabilistic Modeling, Inference, and Probabilistic Programming"
   ]
  },
  {
   "cell_type": "markdown",
   "id": "e2dd0271-e1ef-4051-92c5-b2ba5de75f3c",
   "metadata": {},
   "source": [
    "Most machine learning packages provide predefined machine learning models that apply one particular algorithm. However, many real-world problems have a particular structure that, when properly incorporated into the model, can yield much betterperforming predictions. Often, the structure of a particular problem can be expressed using the language of probability theory. Such structure commonly arises from having a mathematical model of the situation for which you want to predict. To understand what we mean by a structured problem, consider the following example. Let’s say you want to build a mobile application that provides a very detailed position estimate in an outdoor space, to help users navigate a historical site. A mobile phone provides many sensors to help you get precise location measurements, like the GPS, accelerometer, and compass. You also have an exact map of the area. This problem is highly structured. You know where the paths and points of interest are from your map. You also have rough positions from the GPS, and the accelerometer and compass in the user’s device provide you with very precise relative measurements. But throwing these all together into a black-box machine learning system to predict positions might not be the best idea. This would throw away all the information you already know about how the real world works. If the compass and accelerometer tell you a user is going north, and the GPS is telling you the user is going south, you probably can’t trust the GPS. If your position estimate tells you the user just walked through a wall, you should also be highly skeptical. It’s possible to express this situation using a probabilistic model, and then use machine learning or probabilistic inference to find out how much you should trust each measurement, and to reason about what the best guess for the location of a user is.\n",
    "\n",
    "Once you’ve expressed the situation and your model of how the different factors work together in the right way, there are methods to compute the predictions using these custom models directly. The most general of these methods are called probabilistic programming languages, and they provide a very elegant and compact way to express a learning problem. Examples of popular probabilistic programming languages are PyMC (which can be used in Python) and Stan (a framework that can be used from several languages, including Python). While these packages require some understanding of probability theory, they simplify the creation of new models significantly"
   ]
  },
  {
   "cell_type": "markdown",
   "id": "b1d76c34-a0cb-4a68-8228-010ca57d0094",
   "metadata": {
    "jp-MarkdownHeadingCollapsed": true
   },
   "source": [
    "## Neural Networks\n",
    "\n",
    "While we touched on the subject of neural networks briefly in Chapters 2 and 7, this\n",
    "is a rapidly evolving area of machine learning, with innovations and new applications\n",
    "being announced on a weekly basis. Recent breakthroughs in machine learning and\n",
    "artificial intelligence, such as the victory of the Alpha Go program against human\n",
    "champions in the game of Go, the constantly improving performance of speech\n",
    "understanding, and the availability of near-instantaneous speech translation, have all\n",
    "been driven by these advances. While the progress in this field is so fast-paced that\n",
    "any current reference to the state of the art will soon be outdated, the recent book\n",
    "Deep Learning by Ian Goodfellow, Yoshua Bengio, and Aaron Courville (MIT Press)\n",
    "is a comprehensive introduction into the subject\n",
    "\n",
    "A preprint can be found in $\\href{http://www.deeplearningbook.org/.}{link}$"
   ]
  },
  {
   "cell_type": "markdown",
   "id": "54baab66-33ff-4c76-be32-7bd2cba43e03",
   "metadata": {},
   "source": [
    "## Scaling to Larger Datasets"
   ]
  },
  {
   "cell_type": "markdown",
   "id": "07726bac-6f06-4432-8f28-5352441fac17",
   "metadata": {},
   "source": [
    "In this book, we always assumed that the data we were working with could be stored\n",
    "in a NumPy array or SciPy sparse matrix in memory (RAM). Even though modern\n",
    "servers often have hundreds of gigabytes (GB) of RAM, this is a fundamental restriction\n",
    "on the size of data you can work with. Not everybody can afford to buy such a\n",
    "large machine, or even to rent one from a cloud provider. In most applications, the\n",
    "data that is used to build a machine learning system is relatively small, though, and\n",
    "few machine learning datasets consist of hundreds of gigabites of data or more. This\n",
    "makes expanding your RAM or renting a machine from a cloud provider a viable solution\n",
    "in many cases. If you need to work with terabytes of data, however, or you need to process large amounts of data on a budget, there are two basic strategies: out-ofcore\n",
    "learning and parallelization over a cluster.\n",
    "\n",
    "\n",
    "Out-of-core learning describes learning from data that cannot be stored in main\n",
    "memory, but where the learning takes place on a single computer (or even a single\n",
    "processor within a computer). The data is read from a source like the hard disk or the\n",
    "network either one sample at a time or in chunks of multiple samples, so that each\n",
    "chunk fits into RAM. This subset of the data is then processed and the model is updated\n",
    "to reflect what was learned from the data. Then, this chunk of the data is discarded\n",
    "and the next bit of data is read. Out-of-core learning is implemented for some\n",
    "of the models in scikit-learn, and you can find details on it in the online user\n",
    "guide. Because out-of-core learning requires all of the data to be processed by a single\n",
    "computer, this can lead to long runtimes on very large datasets. Also, not all machine\n",
    "learning algorithms can be implemented in this way.\n",
    "\n",
    "\n",
    "The other strategy for scaling is distributing the data over multiple machines in a\n",
    "compute cluster, and letting each computer process part of the data. This can be\n",
    "much faster for some models, and the size of the data that can be processed is only\n",
    "limited by the size of the cluster. However, such computations often require relatively\n",
    "complex infrastructure. One of the most popular distributed computing platforms at\n",
    "the moment is the spark platform built on top of Hadoop. spark includes some\n",
    "machine learning functionality within the MLLib package. If your data is already on a\n",
    "Hadoop filesystem, or you are already using spark to preprocess your data, this might\n",
    "be the easiest option. If you don’t already have such infrastructure in place, establishing\n",
    "and integrating a spark cluster might be too large an effort, however. The vw\n",
    "package mentioned earlier provides some distributed features and might be a better\n",
    "solution in this case"
   ]
  },
  {
   "cell_type": "markdown",
   "id": "a15f9530-dcff-4e37-aa3f-6c8ae01cdb0a",
   "metadata": {},
   "source": [
    "## Honing Your Skills"
   ]
  },
  {
   "cell_type": "markdown",
   "id": "c1bc17c0-4a04-4aa5-92f5-3d933fe7f89d",
   "metadata": {},
   "source": [
    "As with many things in life, only practice will allow you to become an expert in the\n",
    "topics we covered in this book. Feature extraction, preprocessing, visualization, and\n",
    "model building can vary widely between different tasks and different datasets. Maybe\n",
    "you are lucky enough to already have access to a variety of datasets and tasks. If you\n",
    "don’t already have a task in mind, a good place to start is machine learning competitions,\n",
    "in which a dataset with a given task is published, and teams compete in creating\n",
    "the best possible predictions. Many companies, nonprofit organizations, and universities\n",
    "host these competitions. One of the most popular places to find them is $\\href{https://www.kaggle.com/}{Kaggle}$,\n",
    "a website that regularly holds data science competitions, some of which have substantial\n",
    "prize money attached.\n",
    "\n",
    "The Kaggle forums are also a good source of information about the latest tools and\n",
    "tricks in machine learning, and a wide range of datasets are available on the site. Even\n",
    "more datasets with associated tasks can be found on the $\\href{https://www.openml.org/}{OpenML \\ platform}$, which hosts over 20,000 datasets with over 50,000 associated machine learning tasks. \n",
    "\n",
    "Working with these datasets can provide a great opportunity to practice your machine\n",
    "learning skills. A disadvantage of competitions is that they already provide a particular\n",
    "metric to optimize, and usually a fixed, preprocessed dataset. Keep in mind that\n",
    "defining the problem and collecting the data are also important aspects of real-world\n",
    "problems, and that representing the problem in the right way might be much more\n",
    "important than squeezing the last percent of accuracy out of a classifier."
   ]
  },
  {
   "cell_type": "code",
   "execution_count": null,
   "id": "a0213419-1a33-4858-bfbd-64537b41941f",
   "metadata": {},
   "outputs": [],
   "source": []
  }
 ],
 "metadata": {
  "kernelspec": {
   "display_name": "Python 3 (ipykernel)",
   "language": "python",
   "name": "python3"
  },
  "language_info": {
   "codemirror_mode": {
    "name": "ipython",
    "version": 3
   },
   "file_extension": ".py",
   "mimetype": "text/x-python",
   "name": "python",
   "nbconvert_exporter": "python",
   "pygments_lexer": "ipython3",
   "version": "3.11.7"
  }
 },
 "nbformat": 4,
 "nbformat_minor": 5
}
