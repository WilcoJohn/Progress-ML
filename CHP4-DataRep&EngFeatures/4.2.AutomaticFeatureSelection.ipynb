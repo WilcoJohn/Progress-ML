{
 "cells": [
  {
   "cell_type": "code",
   "execution_count": 1,
   "id": "e9488374-9e73-41f9-8e69-8f58e85dcf72",
   "metadata": {},
   "outputs": [],
   "source": [
    "import numpy\n",
    "import matplotlib.pyplot as plt \n",
    "import pandas\n",
    "import mglearn\n",
    "import scipy\n",
    "\n",
    "import sklearn\n",
    "import sklearn.ensemble              # import seperatley otherwise sub module won't be imported\n",
    "import sklearn.neural_network        # import seperatley otherwise sub module won't be imported\n",
    "from sklearn.cluster import KMeans\n",
    "\n",
    "import graphviz\n",
    "import mpl_toolkits.mplot3d as plt3dd"
   ]
  },
  {
   "cell_type": "markdown",
   "id": "be145cee-8ab0-4688-bb16-3865dc5b86d1",
   "metadata": {},
   "source": [
    "# Automatic feature selections"
   ]
  }
 ],
 "metadata": {
  "kernelspec": {
   "display_name": "Python 3 (ipykernel)",
   "language": "python",
   "name": "python3"
  },
  "language_info": {
   "codemirror_mode": {
    "name": "ipython",
    "version": 3
   },
   "file_extension": ".py",
   "mimetype": "text/x-python",
   "name": "python",
   "nbconvert_exporter": "python",
   "pygments_lexer": "ipython3",
   "version": "3.11.5"
  }
 },
 "nbformat": 4,
 "nbformat_minor": 5
}
