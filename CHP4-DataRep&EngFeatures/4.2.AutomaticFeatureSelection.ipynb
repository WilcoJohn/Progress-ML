{
 "cells": [
  {
   "cell_type": "code",
   "execution_count": 2,
   "id": "e9488374-9e73-41f9-8e69-8f58e85dcf72",
   "metadata": {},
   "outputs": [],
   "source": [
    "import numpy\n",
    "import matplotlib.pyplot as plt \n",
    "import pandas\n",
    "import mglearn\n",
    "import scipy\n",
    "\n",
    "import sklearn\n",
    "import sklearn.ensemble              # import seperatley otherwise sub module won't be imported\n",
    "import sklearn.neural_network        # import seperatley otherwise sub module won't be imported\n",
    "from sklearn.cluster import KMeans\n",
    "import sklearn.feature_selection\n",
    "\n",
    "import graphviz\n",
    "import mpl_toolkits.mplot3d as plt3dd"
   ]
  },
  {
   "cell_type": "markdown",
   "id": "be145cee-8ab0-4688-bb16-3865dc5b86d1",
   "metadata": {},
   "source": [
    "# Automatic feature selections"
   ]
  },
  {
   "cell_type": "markdown",
   "id": "14417211-66f2-4e3a-8732-2f12c483b636",
   "metadata": {},
   "source": [
    "Requires supervisesd learning"
   ]
  },
  {
   "cell_type": "markdown",
   "id": "99b1115a-04be-4277-81a0-75cb3c53353d",
   "metadata": {},
   "source": [
    "## Univariate statistics"
   ]
  },
  {
   "cell_type": "markdown",
   "id": "993a7d03-78be-44eb-b019-175012578e5f",
   "metadata": {},
   "source": [
    "In univariate statistics, we compute whether there is a statistically significant relationship between each feature and the target.Then the features that are related with the highest confidence are selected. In the case of classification, this is also known as analysis of variance (ANOVA). A key property of these tests is that they are univariate, meaning that they only consider each feature individually.\n",
    "\n",
    "Univariate tests are often very fast to compute, and don’t require building a model. On the other hand, they are completely independent of the model that you might want to apply after the feature selection."
   ]
  },
  {
   "cell_type": "code",
   "execution_count": 3,
   "id": "c714d122-60e4-4792-9379-1b67aa18bd36",
   "metadata": {},
   "outputs": [
    {
     "name": "stdout",
     "output_type": "stream",
     "text": [
      "Cancer data.shape: (569, 30)\n",
      "X_train.shape: (284, 80)\n",
      "X_train_selected.shape: (284, 40)\n",
      "\n",
      "Selected features [ True  True  True  True  True  True  True  True  True False  True False\n",
      "  True  True  True  True  True  True False False  True  True  True  True\n",
      "  True  True  True  True  True  True False False False  True False  True\n",
      " False False  True False False False False  True False False  True False\n",
      " False  True False  True False False False False False False  True False\n",
      "  True False False False False  True False  True False False False False\n",
      "  True  True False  True False False False False]\n"
     ]
    },
    {
     "data": {
      "image/png": "[encoded data removed]",
      "text/plain": [
       "<Figure size 1600x200 with 1 Axes>"
      ]
     },
     "metadata": {},
     "output_type": "display_data"
    }
   ],
   "source": [
    "cancer = sklearn.datasets.load_breast_cancer();\n",
    "\n",
    "\n",
    "# get deterministic random numbers\n",
    "rng = numpy.random.RandomState(42);\n",
    "noise = rng.normal(size=(len(cancer.data),50));\n",
    "\n",
    "X_w_noise = numpy.hstack([cancer.data, noise]);\n",
    "X_train, X_test, y_train, y_test = sklearn.model_selection.train_test_split(X_w_noise, cancer.target, random_state=0, test_size=.5);\n",
    "\n",
    "# use f_classif (the default) and SelectPercentile to select 50% of features\n",
    "select = sklearn.feature_selection.SelectPercentile(percentile=50);\n",
    "select.fit(X_train, y_train);\n",
    "\n",
    "# transform training set\n",
    "X_train_selected = select.transform(X_train);\n",
    "\n",
    "print(\"Cancer data.shape: {}\".format(cancer.data.shape));\n",
    "print(\"X_train.shape: {}\".format(X_train.shape));\n",
    "print(\"X_train_selected.shape: {}\".format(X_train_selected.shape));\n",
    "\n",
    "mask = select.get_support();\n",
    "print(\"\\nSelected features {}\".format(select.get_support()));\n",
    "plt.matshow(mask.reshape(1,-1), cmap='gray_r');"
   ]
  },
  {
   "cell_type": "code",
   "execution_count": 4,
   "id": "545df7dd-5ea5-4d7b-b015-0d62aeebc847",
   "metadata": {},
   "outputs": [
    {
     "name": "stdout",
     "output_type": "stream",
     "text": [
      "Score with all features: 0.937\n",
      "Score with only selected features: 0.940\n"
     ]
    },
    {
     "name": "stderr",
     "output_type": "stream",
     "text": [
      "C:\\Users\\wilco\\AppData\\Local\\anaconda3\\Lib\\site-packages\\sklearn\\linear_model\\_logistic.py:469: ConvergenceWarning: lbfgs failed to converge (status=1):\n",
      "STOP: TOTAL NO. of ITERATIONS REACHED LIMIT.\n",
      "\n",
      "Increase the number of iterations (max_iter) or scale the data as shown in:\n",
      "    https://scikit-learn.org/stable/modules/preprocessing.html\n",
      "Please also refer to the documentation for alternative solver options:\n",
      "    https://scikit-learn.org/stable/modules/linear_model.html#logistic-regression\n",
      "  n_iter_i = _check_optimize_result(\n",
      "C:\\Users\\wilco\\AppData\\Local\\anaconda3\\Lib\\site-packages\\sklearn\\linear_model\\_logistic.py:469: ConvergenceWarning: lbfgs failed to converge (status=1):\n",
      "STOP: TOTAL NO. of ITERATIONS REACHED LIMIT.\n",
      "\n",
      "Increase the number of iterations (max_iter) or scale the data as shown in:\n",
      "    https://scikit-learn.org/stable/modules/preprocessing.html\n",
      "Please also refer to the documentation for alternative solver options:\n",
      "    https://scikit-learn.org/stable/modules/linear_model.html#logistic-regression\n",
      "  n_iter_i = _check_optimize_result(\n"
     ]
    }
   ],
   "source": [
    "X_test_selected = select.transform(X_test);\n",
    "\n",
    "lr = sklearn.linear_model.LogisticRegression(max_iter=1000);\n",
    "lr.fit(X_train, y_train);\n",
    "print(\"Score with all features: {:.3f}\".format(lr.score(X_test, y_test)));\n",
    "lr.fit(X_train_selected, y_train);\n",
    "print(\"Score with only selected features: {:.3f}\".format(lr.score(X_test_selected, y_test)));"
   ]
  },
  {
   "cell_type": "markdown",
   "id": "94319460-3a91-4eb2-a976-1328864414b9",
   "metadata": {},
   "source": [
    "## Model-based feature selection"
   ]
  },
  {
   "cell_type": "markdown",
   "id": "475ce1e4-14bf-4c69-9287-9811db429905",
   "metadata": {},
   "source": [
    "The feature selection model needs to provide some measure of importance for each feature, so that they can be ranked by this measure. Decision trees and decision tree–based models provide a feature_importances."
   ]
  },
  {
   "cell_type": "code",
   "execution_count": 55,
   "id": "6a288443-0bb4-4af3-9ad7-7a7ffe292cd3",
   "metadata": {},
   "outputs": [
    {
     "name": "stdout",
     "output_type": "stream",
     "text": [
      "X_train.shape: (284, 80)\n",
      "X_train_l1.shape: (284, 17)\n"
     ]
    },
    {
     "data": {
      "image/png": "[encoded data removed]",
      "text/plain": [
       "<Figure size 1600x200 with 1 Axes>"
      ]
     },
     "metadata": {},
     "output_type": "display_data"
    }
   ],
   "source": [
    "select = sklearn.feature_selection.SelectFromModel(sklearn.ensemble.RandomForestClassifier(n_estimators=100, random_state=42),\n",
    "                                                  threshold=None);\n",
    "select.fit(X_train, y_train);\n",
    "X_train_l1 = select.transform(X_train);\n",
    "\n",
    "print(\"X_train.shape: {}\".format(X_train.shape));\n",
    "print(\"X_train_l1.shape: {}\".format(X_train_l1.shape));\n",
    "\n",
    "mask = select.get_support();\n",
    "plt.matshow(mask.reshape(1, -1), cmap='gray_r');\n",
    "plt.xlabel(\"Sample index\");"
   ]
  },
  {
   "cell_type": "code",
   "execution_count": 56,
   "id": "37933757-1167-420d-b5ab-bff6f97da037",
   "metadata": {},
   "outputs": [
    {
     "name": "stdout",
     "output_type": "stream",
     "text": [
      "Test score: 95.44\n"
     ]
    },
    {
     "name": "stderr",
     "output_type": "stream",
     "text": [
      "C:\\Users\\wilco\\AppData\\Local\\anaconda3\\Lib\\site-packages\\sklearn\\linear_model\\_logistic.py:469: ConvergenceWarning: lbfgs failed to converge (status=1):\n",
      "STOP: TOTAL NO. of ITERATIONS REACHED LIMIT.\n",
      "\n",
      "Increase the number of iterations (max_iter) or scale the data as shown in:\n",
      "    https://scikit-learn.org/stable/modules/preprocessing.html\n",
      "Please also refer to the documentation for alternative solver options:\n",
      "    https://scikit-learn.org/stable/modules/linear_model.html#logistic-regression\n",
      "  n_iter_i = _check_optimize_result(\n"
     ]
    }
   ],
   "source": [
    "X_test_l1 = select.transform(X_test);\n",
    "score = sklearn.linear_model.LogisticRegression().fit(X_train_l1, y_train).score(X_test_l1, y_test);\n",
    "print(\"Test score: {:4.2f}\".format(score*100))"
   ]
  },
  {
   "cell_type": "markdown",
   "id": "c8918376-c23e-4efe-bc08-f10c5e7bde53",
   "metadata": {},
   "source": [
    "## Iterative feature selection"
   ]
  },
  {
   "cell_type": "markdown",
   "id": "a8393ab8-5088-49fa-bbb0-d0a0562153df",
   "metadata": {},
   "source": [
    "There are two basic methods: starting with no features and adding features one by one until some stopping criterion is reached, or starting with all features and removing features one by one until some stopping criterion is reached. Because a series of models are built, these methods are much more computationally expensive than the methods we discussed previously. One particular method of this kind is recursive feature elimination (RFE), which starts with all features, builds a model, and discards the least important feature according to the model. Then a new model is built using all but the discarded feature, and so on until only a prespecified number of features are left. For this to work, the model used for selection needs to provide some way to determine feature importance, as was the case for the model-based selection."
   ]
  },
  {
   "cell_type": "code",
   "execution_count": 60,
   "id": "9605365f-6a5c-4673-9d4e-47479317352c",
   "metadata": {},
   "outputs": [],
   "source": [
    "select = sklearn.feature_selection.RFE(sklearn.ensemble.RandomForestClassifier(n_estimators=100, random_state=42),\n",
    "                                      n_features_to_select=40);\n",
    "select.fit(X_train, y_train);"
   ]
  },
  {
   "cell_type": "code",
   "execution_count": 62,
   "id": "104d7711-97d7-4af4-93ab-a9cc39ae2ae5",
   "metadata": {},
   "outputs": [
    {
     "name": "stdout",
     "output_type": "stream",
     "text": [
      "LogReg score: 92.98 %\n",
      "Select score: 95.09 %\n"
     ]
    },
    {
     "name": "stderr",
     "output_type": "stream",
     "text": [
      "C:\\Users\\wilco\\AppData\\Local\\anaconda3\\Lib\\site-packages\\sklearn\\linear_model\\_logistic.py:469: ConvergenceWarning: lbfgs failed to converge (status=1):\n",
      "STOP: TOTAL NO. of ITERATIONS REACHED LIMIT.\n",
      "\n",
      "Increase the number of iterations (max_iter) or scale the data as shown in:\n",
      "    https://scikit-learn.org/stable/modules/preprocessing.html\n",
      "Please also refer to the documentation for alternative solver options:\n",
      "    https://scikit-learn.org/stable/modules/linear_model.html#logistic-regression\n",
      "  n_iter_i = _check_optimize_result(\n"
     ]
    },
    {
     "data": {
      "image/png": "[encoded data removed]",
      "text/plain": [
       "<Figure size 1600x200 with 1 Axes>"
      ]
     },
     "metadata": {},
     "output_type": "display_data"
    }
   ],
   "source": [
    "\n",
    "mask = select.get_support();\n",
    "plt.matshow(mask.reshape(1,-1), cmap='gray_r');\n",
    "\n",
    "X_train_rfe = select.transform(X_train);\n",
    "X_test_rfe = select.transform(X_test);\n",
    "\n",
    "score = sklearn.linear_model.LogisticRegression().fit(X_train_rfe, y_train).score(X_test_rfe, y_test);\n",
    "print(\"LogReg score: {:4.2f} %\".format(score*100));\n",
    "print(\"Select score: {:4.2f} %\".format(select.score(X_test, y_test)*100));"
   ]
  }
 ],
 "metadata": {
  "kernelspec": {
   "display_name": "Python 3 (ipykernel)",
   "language": "python",
   "name": "python3"
  },
  "language_info": {
   "codemirror_mode": {
    "name": "ipython",
    "version": 3
   },
   "file_extension": ".py",
   "mimetype": "text/x-python",
   "name": "python",
   "nbconvert_exporter": "python",
   "pygments_lexer": "ipython3",
   "version": "3.11.7"
  }
 },
 "nbformat": 4,
 "nbformat_minor": 5
}
