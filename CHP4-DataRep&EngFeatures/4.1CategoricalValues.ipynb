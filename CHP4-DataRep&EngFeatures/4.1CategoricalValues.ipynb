{
 "cells": [
  {
   "cell_type": "code",
   "execution_count": null,
   "metadata": {
    "vscode": {
     "languageId": "plaintext"
    }
   },
   "outputs": [],
   "source": [
    "import numpy\n",
    "import matplotlib.pyplot as plt \n",
    "import pandas\n",
    "import mglearn\n",
    "import scipy\n",
    "\n",
    "import sklearn\n",
    "import sklearn.ensemble  # import seperatley otherwise sub module won't be imported\n",
    "import sklearn.neural_network # import seperatley otherwise sub module won't be imported\n",
    "from sklearn.cluster import KMeans\n",
    "\n",
    "import graphviz\n",
    "import mpl_toolkits.mplot3d as plt3dd"
   ]
  }
 ],
 "metadata": {
  "language_info": {
   "name": "python"
  }
 },
 "nbformat": 4,
 "nbformat_minor": 2
}
