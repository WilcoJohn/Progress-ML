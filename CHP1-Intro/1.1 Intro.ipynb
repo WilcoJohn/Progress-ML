{
 "cells": [
  {
   "cell_type": "code",
   "execution_count": 1,
   "id": "4a039f9b-2606-4a87-a86d-a5b5ecc5b8f8",
   "metadata": {},
   "outputs": [],
   "source": [
    "import numpy\n",
    "from scipy import sparse\n",
    "import matplotlib.pyplot as plt \n",
    "import pandas\n",
    "import mglearn\n",
    "\n",
    "from sklearn.datasets import load_iris"
   ]
  },
  {
   "cell_type": "code",
   "execution_count": 4,
   "id": "88fd6684-bf5e-4d23-a627-1eebec6e95aa",
   "metadata": {},
   "outputs": [],
   "source": [
    "def printResult(*args):\n",
    "    argsLen = len(args)\n",
    "    if (argsLen) == 1:\n",
    "        print(\"Results\\n{}\".format(args[0]));\n",
    "    else:\n",
    "        for i in range(0,argsLen,2):\n",
    "            if ((i+1) == argsLen): break;\n",
    "            print(\"{}:\\n{}\\n\".format(args[i],args[i+1]));\n",
    "\n"
   ]
  },
  {
   "cell_type": "code",
   "execution_count": 54,
   "id": "2622f575-73bf-483c-9a9e-c727f96bf110",
   "metadata": {},
   "outputs": [
    {
     "name": "stdout",
     "output_type": "stream",
     "text": [
      "X:\n",
      "[[1. 0. 0. 0. 0. 0.]\n",
      " [0. 1. 0. 0. 0. 0.]\n",
      " [0. 0. 1. 0. 0. 0.]\n",
      " [0. 0. 0. 1. 0. 0.]\n",
      " [0. 0. 0. 0. 1. 0.]\n",
      " [0. 0. 0. 0. 0. 1.]]\n",
      "\n",
      "Xs:\n",
      "  (0, 0)\t1.0\n",
      "  (1, 1)\t1.0\n",
      "  (2, 2)\t1.0\n",
      "  (3, 3)\t1.0\n",
      "  (4, 4)\t1.0\n",
      "  (5, 5)\t1.0\n",
      "\n"
     ]
    }
   ],
   "source": [
    "A = numpy.array([[1,2],[3,4]]);\n",
    "X = numpy.eye(6);\n",
    "Xs = sparse.csr_matrix(X);\n",
    "printResult('X',X,'Xs',Xs)"
   ]
  },
  {
   "cell_type": "code",
   "execution_count": 59,
   "id": "7c123fcd-0fed-4cfa-8974-9c0462037730",
   "metadata": {},
   "outputs": [
    {
     "name": "stdout",
     "output_type": "stream",
     "text": [
      "Results\n",
      "  (0, 0)\t1.0\n",
      "  (1, 1)\t1.0\n",
      "  (2, 2)\t1.0\n",
      "  (3, 3)\t1.0\n"
     ]
    }
   ],
   "source": [
    "D = numpy.ones(4)\n",
    "row_indices = numpy.arange(4);\n",
    "col_indices = numpy.arange(4);\n",
    "eye_coo = sparse.coo_matrix((D,(row_indices,col_indices)));\n",
    "printResult(eye_coo)"
   ]
  },
  {
   "cell_type": "code",
   "execution_count": 65,
   "id": "81b7e6aa-457c-44c2-8f60-8f391a8dcb59",
   "metadata": {},
   "outputs": [],
   "source": [
    "x = numpy.linspace(0,10);\n",
    "y = numpy.sin(x);\n",
    "# plt.plot(x,y,'-x');"
   ]
  },
  {
   "cell_type": "code",
   "execution_count": 69,
   "id": "98c14202-e544-47f3-b66a-9f46066cc5e6",
   "metadata": {},
   "outputs": [
    {
     "name": "stdout",
     "output_type": "stream",
     "text": [
      "Results\n",
      "    Name  Location  Age\n",
      "0   John  New York   24\n",
      "1   Anna     Paris   13\n",
      "2  Peter    Berlin   53\n",
      "3  Linda    London   33\n"
     ]
    }
   ],
   "source": [
    "data = {\"Name\" : [\"John\", \"Anna\", \"Peter\", \"Linda\"],\n",
    "        \"Location\": [\"New York\", \"Paris\", \"Berlin\", \"London\"],\n",
    "        \"Age\" :  [24, 13, 53, 33]};\n",
    "\n",
    "dataF = pandas.DataFrame(data);\n",
    "printResult(dataF);"
   ]
  },
  {
   "cell_type": "code",
   "execution_count": 8,
   "id": "0710cf6d-60cf-4381-9eb4-9184230b8b42",
   "metadata": {},
   "outputs": [
    {
     "data": {
      "text/plain": [
       "'.. _iris_dataset:\\n\\nIris plants dataset\\n--------------------\\n\\n**Data Set Characteristics:**\\n\\n    :Number of Instances: 150 (50 in each of three classes)\\n    :Number of Attributes: 4 numeric, pre'"
      ]
     },
     "execution_count": 8,
     "metadata": {},
     "output_type": "execute_result"
    }
   ],
   "source": [
    "iris_dataset = load_iris()\n",
    "iris_dataset['DESCR'][:193]"
   ]
  }
 ],
 "metadata": {
  "kernelspec": {
   "display_name": "Python 3 (ipykernel)",
   "language": "python",
   "name": "python3"
  },
  "language_info": {
   "codemirror_mode": {
    "name": "ipython",
    "version": 3
   },
   "file_extension": ".py",
   "mimetype": "text/x-python",
   "name": "python",
   "nbconvert_exporter": "python",
   "pygments_lexer": "ipython3",
   "version": "3.11.7"
  }
 },
 "nbformat": 4,
 "nbformat_minor": 5
}
